{
 "cells": [
  {
   "cell_type": "code",
   "execution_count": 2,
   "metadata": {},
   "outputs": [],
   "source": [
    "import numpy as np\n",
    "import matplotlib.pyplot as plt"
   ]
  },
  {
   "cell_type": "markdown",
   "metadata": {},
   "source": [
    "Gaussian function \n",
    "$$\n",
    "f(x) = \\frac{1}{\\sqrt{2\\pi\\sigma^2}}e^{-\\frac{(x-\\mu)^2}{2\\sigma^2}}\n",
    "$$\n"
   ]
  },
  {
   "cell_type": "code",
   "execution_count": 3,
   "metadata": {},
   "outputs": [],
   "source": [
    "def f(mu, sigma2, x):\n",
    "    return 1 / np.sqrt(2.0 * np.pi * sigma2) * np.exp(-0.5 * (x - mu) ** 2 / sigma2)"
   ]
  },
  {
   "cell_type": "code",
   "execution_count": 8,
   "metadata": {},
   "outputs": [
    {
     "name": "stdout",
     "output_type": "stream",
     "text": [
      "0.12098536225957168\n",
      "0.19947114020071635\n"
     ]
    }
   ],
   "source": [
    "print(f(10.0, 4.0, 8.0))\n",
    "\n",
    "# Max possible value of f for x = 10.0\n",
    "print(f(10.0, 4.0, 10.0))"
   ]
  },
  {
   "cell_type": "markdown",
   "metadata": {},
   "source": [
    "Measurement Update\n",
    "$$\n",
    "\\mu' = \\frac{r^2\\mu + \\sigma^2\\nu}{\\sigma^2 + r^2}\n",
    "$$\n",
    "$$\n",
    "{\\sigma^2}' = \\frac{1}{\\frac{1}{\\sigma^2} + \\frac{1}{r^2}}\n",
    "$$\n"
   ]
  },
  {
   "cell_type": "code",
   "execution_count": 21,
   "metadata": {},
   "outputs": [],
   "source": [
    "def update(mu, sigma2, nu, r2):\n",
    "    mu_prime = (r2 * mu + sigma2 * nu) / (sigma2 + r2)\n",
    "    sigma2_prime = 1 / (1 / sigma2 + 1 / r2)\n",
    "    return mu_prime, sigma2_prime"
   ]
  },
  {
   "cell_type": "code",
   "execution_count": 11,
   "metadata": {},
   "outputs": [
    {
     "data": {
      "text/plain": [
       "(11.0, 2.0)"
      ]
     },
     "execution_count": 11,
     "metadata": {},
     "output_type": "execute_result"
    }
   ],
   "source": [
    "update(10.0, 4.0, 12.0, 4.0)"
   ]
  },
  {
   "cell_type": "code",
   "execution_count": 12,
   "metadata": {},
   "outputs": [
    {
     "data": {
      "text/plain": [
       "(12.4, 1.6)"
      ]
     },
     "execution_count": 12,
     "metadata": {},
     "output_type": "execute_result"
    }
   ],
   "source": [
    "update(10.0, 8.0, 13.0, 2.0)"
   ]
  },
  {
   "cell_type": "markdown",
   "metadata": {},
   "source": [
    "Motion Update (Prediction)\n",
    "\n",
    "$$\n",
    "\\mu' = \\mu + \\nu\n",
    "$$\n",
    "$$\n",
    "{\\sigma^2}' = \\sigma^2 + r^2\n",
    "$$"
   ]
  },
  {
   "cell_type": "code",
   "execution_count": 20,
   "metadata": {},
   "outputs": [],
   "source": [
    "def predict(mu, sigma2, nu, r2):\n",
    "    mu_prime = mu + nu\n",
    "    sigma2_prime = sigma2 + r2\n",
    "    return mu_prime, sigma2_prime"
   ]
  },
  {
   "cell_type": "code",
   "execution_count": 28,
   "metadata": {},
   "outputs": [],
   "source": [
    "init_mu = 0\n",
    "init_sigma2 = 4\n",
    "\n",
    "measurements_mu = [5, 6, 7, 9, 10]\n",
    "measurement_sigma2 = 4\n",
    "\n",
    "motions_nu = [1, 1, 2, 1, 1]\n",
    "motion_r2 = 2"
   ]
  },
  {
   "cell_type": "code",
   "execution_count": 29,
   "metadata": {},
   "outputs": [
    {
     "name": "stdout",
     "output_type": "stream",
     "text": [
      "0, 4  => 2.5, 2.0  => 3.5, 4.0\n",
      "3.5, 4.0  => 4.75, 2.0  => 5.75, 4.0\n",
      "5.75, 4.0  => 6.375, 2.0  => 8.375, 4.0\n",
      "8.375, 4.0  => 8.6875, 2.0  => 9.6875, 4.0\n",
      "9.6875, 4.0  => 9.84375, 2.0  => 10.84375, 4.0\n"
     ]
    }
   ],
   "source": [
    "for mu, nu in zip(measurements_mu, motions_nu):\n",
    "    print(f\"{init_mu}, {init_sigma2} \", end=\"\")\n",
    "    # Measurement update\n",
    "    init_mu, init_sigma2 = update(init_mu, init_sigma2, mu, measurement_sigma2)\n",
    "    print(f\" => {init_mu}, {init_sigma2} \", end=\"\")\n",
    "\n",
    "    # Motion update\n",
    "    init_mu, init_sigma2 = predict(init_mu, init_sigma2, nu, motion_r2)\n",
    "    print(f\" => {init_mu}, {init_sigma2}\")"
   ]
  }
 ],
 "metadata": {
  "kernelspec": {
   "display_name": "aienv10",
   "language": "python",
   "name": "python3"
  },
  "language_info": {
   "codemirror_mode": {
    "name": "ipython",
    "version": 3
   },
   "file_extension": ".py",
   "mimetype": "text/x-python",
   "name": "python",
   "nbconvert_exporter": "python",
   "pygments_lexer": "ipython3",
   "version": "3.10.13"
  }
 },
 "nbformat": 4,
 "nbformat_minor": 2
}
